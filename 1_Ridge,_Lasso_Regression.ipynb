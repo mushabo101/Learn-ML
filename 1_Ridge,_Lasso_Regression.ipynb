{
  "nbformat": 4,
  "nbformat_minor": 0,
  "metadata": {
    "colab": {
      "name": "1.Ridge, Lasso Regression.ipynb",
      "provenance": []
    },
    "kernelspec": {
      "name": "python3",
      "display_name": "Python 3"
    },
    "language_info": {
      "name": "python"
    }
  },
  "cells": [
    {
      "cell_type": "code",
      "metadata": {
        "id": "4FhtZdjaj8QF"
      },
      "source": [
        "import pandas as pd\n",
        "import numpy as np\n",
        "from sklearn.datasets import load_boston\n",
        "from sklearn.linear_model import LogisticRegression, LinearRegression, Lasso, Ridge\n",
        "from sklearn.preprocessing import MinMaxScaler\n",
        "from sklearn.model_selection import train_test_split\n",
        "from sklearn.metrics import accuracy_score, mean_squared_error,r2_score\n",
        "import matplotlib.pyplot as plt\n",
        "import seaborn as sns\n",
        "import warnings\n",
        "warnings.filterwarnings('ignore')"
      ],
      "execution_count": null,
      "outputs": []
    },
    {
      "cell_type": "code",
      "metadata": {
        "id": "B8TyR9BGkPoX"
      },
      "source": [
        "boston = load_boston()"
      ],
      "execution_count": null,
      "outputs": []
    },
    {
      "cell_type": "code",
      "metadata": {
        "colab": {
          "base_uri": "https://localhost:8080/",
          "height": 204
        },
        "id": "2xRGc1KLkig1",
        "outputId": "bc89642b-ad3c-49a3-a5fc-fe8d73ed9fca"
      },
      "source": [
        "features = pd.DataFrame(boston['data'], columns = boston['feature_names'])\n",
        "features.head()"
      ],
      "execution_count": null,
      "outputs": [
        {
          "output_type": "execute_result",
          "data": {
            "text/html": [
              "<div>\n",
              "<style scoped>\n",
              "    .dataframe tbody tr th:only-of-type {\n",
              "        vertical-align: middle;\n",
              "    }\n",
              "\n",
              "    .dataframe tbody tr th {\n",
              "        vertical-align: top;\n",
              "    }\n",
              "\n",
              "    .dataframe thead th {\n",
              "        text-align: right;\n",
              "    }\n",
              "</style>\n",
              "<table border=\"1\" class=\"dataframe\">\n",
              "  <thead>\n",
              "    <tr style=\"text-align: right;\">\n",
              "      <th></th>\n",
              "      <th>CRIM</th>\n",
              "      <th>ZN</th>\n",
              "      <th>INDUS</th>\n",
              "      <th>CHAS</th>\n",
              "      <th>NOX</th>\n",
              "      <th>RM</th>\n",
              "      <th>AGE</th>\n",
              "      <th>DIS</th>\n",
              "      <th>RAD</th>\n",
              "      <th>TAX</th>\n",
              "      <th>PTRATIO</th>\n",
              "      <th>B</th>\n",
              "      <th>LSTAT</th>\n",
              "    </tr>\n",
              "  </thead>\n",
              "  <tbody>\n",
              "    <tr>\n",
              "      <th>0</th>\n",
              "      <td>0.00632</td>\n",
              "      <td>18.0</td>\n",
              "      <td>2.31</td>\n",
              "      <td>0.0</td>\n",
              "      <td>0.538</td>\n",
              "      <td>6.575</td>\n",
              "      <td>65.2</td>\n",
              "      <td>4.0900</td>\n",
              "      <td>1.0</td>\n",
              "      <td>296.0</td>\n",
              "      <td>15.3</td>\n",
              "      <td>396.90</td>\n",
              "      <td>4.98</td>\n",
              "    </tr>\n",
              "    <tr>\n",
              "      <th>1</th>\n",
              "      <td>0.02731</td>\n",
              "      <td>0.0</td>\n",
              "      <td>7.07</td>\n",
              "      <td>0.0</td>\n",
              "      <td>0.469</td>\n",
              "      <td>6.421</td>\n",
              "      <td>78.9</td>\n",
              "      <td>4.9671</td>\n",
              "      <td>2.0</td>\n",
              "      <td>242.0</td>\n",
              "      <td>17.8</td>\n",
              "      <td>396.90</td>\n",
              "      <td>9.14</td>\n",
              "    </tr>\n",
              "    <tr>\n",
              "      <th>2</th>\n",
              "      <td>0.02729</td>\n",
              "      <td>0.0</td>\n",
              "      <td>7.07</td>\n",
              "      <td>0.0</td>\n",
              "      <td>0.469</td>\n",
              "      <td>7.185</td>\n",
              "      <td>61.1</td>\n",
              "      <td>4.9671</td>\n",
              "      <td>2.0</td>\n",
              "      <td>242.0</td>\n",
              "      <td>17.8</td>\n",
              "      <td>392.83</td>\n",
              "      <td>4.03</td>\n",
              "    </tr>\n",
              "    <tr>\n",
              "      <th>3</th>\n",
              "      <td>0.03237</td>\n",
              "      <td>0.0</td>\n",
              "      <td>2.18</td>\n",
              "      <td>0.0</td>\n",
              "      <td>0.458</td>\n",
              "      <td>6.998</td>\n",
              "      <td>45.8</td>\n",
              "      <td>6.0622</td>\n",
              "      <td>3.0</td>\n",
              "      <td>222.0</td>\n",
              "      <td>18.7</td>\n",
              "      <td>394.63</td>\n",
              "      <td>2.94</td>\n",
              "    </tr>\n",
              "    <tr>\n",
              "      <th>4</th>\n",
              "      <td>0.06905</td>\n",
              "      <td>0.0</td>\n",
              "      <td>2.18</td>\n",
              "      <td>0.0</td>\n",
              "      <td>0.458</td>\n",
              "      <td>7.147</td>\n",
              "      <td>54.2</td>\n",
              "      <td>6.0622</td>\n",
              "      <td>3.0</td>\n",
              "      <td>222.0</td>\n",
              "      <td>18.7</td>\n",
              "      <td>396.90</td>\n",
              "      <td>5.33</td>\n",
              "    </tr>\n",
              "  </tbody>\n",
              "</table>\n",
              "</div>"
            ],
            "text/plain": [
              "      CRIM    ZN  INDUS  CHAS    NOX  ...  RAD    TAX  PTRATIO       B  LSTAT\n",
              "0  0.00632  18.0   2.31   0.0  0.538  ...  1.0  296.0     15.3  396.90   4.98\n",
              "1  0.02731   0.0   7.07   0.0  0.469  ...  2.0  242.0     17.8  396.90   9.14\n",
              "2  0.02729   0.0   7.07   0.0  0.469  ...  2.0  242.0     17.8  392.83   4.03\n",
              "3  0.03237   0.0   2.18   0.0  0.458  ...  3.0  222.0     18.7  394.63   2.94\n",
              "4  0.06905   0.0   2.18   0.0  0.458  ...  3.0  222.0     18.7  396.90   5.33\n",
              "\n",
              "[5 rows x 13 columns]"
            ]
          },
          "metadata": {
            "tags": []
          },
          "execution_count": 3
        }
      ]
    },
    {
      "cell_type": "code",
      "metadata": {
        "colab": {
          "base_uri": "https://localhost:8080/"
        },
        "id": "PO1XD-DVkVcr",
        "outputId": "a660f265-5ffb-415c-8d80-d133e4431897"
      },
      "source": [
        "target = pd.Series(boston['target'])\n",
        "target.head()"
      ],
      "execution_count": null,
      "outputs": [
        {
          "output_type": "execute_result",
          "data": {
            "text/plain": [
              "0    24.0\n",
              "1    21.6\n",
              "2    34.7\n",
              "3    33.4\n",
              "4    36.2\n",
              "dtype: float64"
            ]
          },
          "metadata": {
            "tags": []
          },
          "execution_count": 4
        }
      ]
    },
    {
      "cell_type": "code",
      "metadata": {
        "id": "ZO4BUcWBkcOq"
      },
      "source": [
        "X = features\n",
        "y = target"
      ],
      "execution_count": null,
      "outputs": []
    },
    {
      "cell_type": "code",
      "metadata": {
        "colab": {
          "base_uri": "https://localhost:8080/"
        },
        "id": "oyoHS2CImnoT",
        "outputId": "0205e4ec-529f-42a7-c322-6b3f9c528d3e"
      },
      "source": [
        "y"
      ],
      "execution_count": null,
      "outputs": [
        {
          "output_type": "execute_result",
          "data": {
            "text/plain": [
              "0      24.0\n",
              "1      21.6\n",
              "2      34.7\n",
              "3      33.4\n",
              "4      36.2\n",
              "       ... \n",
              "501    22.4\n",
              "502    20.6\n",
              "503    23.9\n",
              "504    22.0\n",
              "505    11.9\n",
              "Length: 506, dtype: float64"
            ]
          },
          "metadata": {
            "tags": []
          },
          "execution_count": 6
        }
      ]
    },
    {
      "cell_type": "code",
      "metadata": {
        "id": "vkLOKq9omQhx"
      },
      "source": [
        "X_train, X_test, y_train, y_test = train_test_split(\n",
        "    X,\n",
        "    y,\n",
        "    test_size = 0.2, \n",
        "    random_state = 42) # make the result consistent"
      ],
      "execution_count": null,
      "outputs": []
    },
    {
      "cell_type": "code",
      "metadata": {
        "id": "Je7UH9F1nOr7"
      },
      "source": [
        ""
      ],
      "execution_count": null,
      "outputs": []
    },
    {
      "cell_type": "markdown",
      "metadata": {
        "id": "QSZ1tdsmtLtj"
      },
      "source": [
        "##In Ridge"
      ]
    },
    {
      "cell_type": "code",
      "metadata": {
        "id": "z_kzQULgnEPc"
      },
      "source": [
        "alpha = (1000000,10000,1000,100,10,1,0.1,0.001)\n",
        "coefficients = []\n",
        "mse_train = []\n",
        "mse_test = []\n",
        "\n",
        "for i in alpha:\n",
        "  rg = Ridge(alpha = i) \n",
        "  rg.fit(X_train, y_train)\n",
        "\n",
        "  y_pred_train = rg.predict(X_train)\n",
        "  y_pred_test = rg.predict(X_test)\n",
        "\n",
        "\n",
        "  mse_train.append(mean_squared_error(y_train,y_pred_train))\n",
        "  mse_test.append(mean_squared_error(y_test,y_pred_test))\n",
        "  \n",
        "  coefficients.append(rg.coef_)\n",
        "\n"
      ],
      "execution_count": null,
      "outputs": []
    },
    {
      "cell_type": "code",
      "metadata": {
        "colab": {
          "base_uri": "https://localhost:8080/",
          "height": 297
        },
        "id": "MfnXvv0yu1Wd",
        "outputId": "29542eff-025b-435a-b6db-f14a13f60d4f"
      },
      "source": [
        "pd.DataFrame(coefficients,columns=boston['feature_names'])"
      ],
      "execution_count": null,
      "outputs": [
        {
          "output_type": "execute_result",
          "data": {
            "text/html": [
              "<div>\n",
              "<style scoped>\n",
              "    .dataframe tbody tr th:only-of-type {\n",
              "        vertical-align: middle;\n",
              "    }\n",
              "\n",
              "    .dataframe tbody tr th {\n",
              "        vertical-align: top;\n",
              "    }\n",
              "\n",
              "    .dataframe thead th {\n",
              "        text-align: right;\n",
              "    }\n",
              "</style>\n",
              "<table border=\"1\" class=\"dataframe\">\n",
              "  <thead>\n",
              "    <tr style=\"text-align: right;\">\n",
              "      <th></th>\n",
              "      <th>CRIM</th>\n",
              "      <th>ZN</th>\n",
              "      <th>INDUS</th>\n",
              "      <th>CHAS</th>\n",
              "      <th>NOX</th>\n",
              "      <th>RM</th>\n",
              "      <th>AGE</th>\n",
              "      <th>DIS</th>\n",
              "      <th>RAD</th>\n",
              "      <th>TAX</th>\n",
              "      <th>PTRATIO</th>\n",
              "      <th>B</th>\n",
              "      <th>LSTAT</th>\n",
              "    </tr>\n",
              "  </thead>\n",
              "  <tbody>\n",
              "    <tr>\n",
              "      <th>0</th>\n",
              "      <td>-0.003770</td>\n",
              "      <td>0.011693</td>\n",
              "      <td>-0.003636</td>\n",
              "      <td>0.000186</td>\n",
              "      <td>-0.000045</td>\n",
              "      <td>0.001543</td>\n",
              "      <td>-0.009591</td>\n",
              "      <td>-0.000246</td>\n",
              "      <td>0.000338</td>\n",
              "      <td>-0.019075</td>\n",
              "      <td>-0.002456</td>\n",
              "      <td>0.013486</td>\n",
              "      <td>-0.012578</td>\n",
              "    </tr>\n",
              "    <tr>\n",
              "      <th>1</th>\n",
              "      <td>-0.077182</td>\n",
              "      <td>0.040557</td>\n",
              "      <td>-0.056429</td>\n",
              "      <td>0.014448</td>\n",
              "      <td>-0.000305</td>\n",
              "      <td>0.096949</td>\n",
              "      <td>0.023255</td>\n",
              "      <td>-0.092020</td>\n",
              "      <td>0.098052</td>\n",
              "      <td>-0.012081</td>\n",
              "      <td>-0.157964</td>\n",
              "      <td>0.011532</td>\n",
              "      <td>-0.496255</td>\n",
              "    </tr>\n",
              "    <tr>\n",
              "      <th>2</th>\n",
              "      <td>-0.101390</td>\n",
              "      <td>0.036465</td>\n",
              "      <td>-0.046618</td>\n",
              "      <td>0.090608</td>\n",
              "      <td>-0.010161</td>\n",
              "      <td>0.546665</td>\n",
              "      <td>0.032425</td>\n",
              "      <td>-0.537456</td>\n",
              "      <td>0.277162</td>\n",
              "      <td>-0.014273</td>\n",
              "      <td>-0.629290</td>\n",
              "      <td>0.010470</td>\n",
              "      <td>-0.786833</td>\n",
              "    </tr>\n",
              "    <tr>\n",
              "      <th>3</th>\n",
              "      <td>-0.110765</td>\n",
              "      <td>0.039892</td>\n",
              "      <td>-0.048625</td>\n",
              "      <td>0.550702</td>\n",
              "      <td>-0.197859</td>\n",
              "      <td>2.438815</td>\n",
              "      <td>0.000545</td>\n",
              "      <td>-1.129400</td>\n",
              "      <td>0.299014</td>\n",
              "      <td>-0.014630</td>\n",
              "      <td>-0.817852</td>\n",
              "      <td>0.011951</td>\n",
              "      <td>-0.689539</td>\n",
              "    </tr>\n",
              "    <tr>\n",
              "      <th>4</th>\n",
              "      <td>-0.107134</td>\n",
              "      <td>0.035552</td>\n",
              "      <td>-0.026277</td>\n",
              "      <td>1.813291</td>\n",
              "      <td>-1.889245</td>\n",
              "      <td>4.195326</td>\n",
              "      <td>-0.015341</td>\n",
              "      <td>-1.232621</td>\n",
              "      <td>0.248031</td>\n",
              "      <td>-0.012744</td>\n",
              "      <td>-0.761769</td>\n",
              "      <td>0.012833</td>\n",
              "      <td>-0.561835</td>\n",
              "    </tr>\n",
              "    <tr>\n",
              "      <th>5</th>\n",
              "      <td>-0.109234</td>\n",
              "      <td>0.032271</td>\n",
              "      <td>0.007498</td>\n",
              "      <td>2.545470</td>\n",
              "      <td>-9.537952</td>\n",
              "      <td>4.464505</td>\n",
              "      <td>-0.012191</td>\n",
              "      <td>-1.338700</td>\n",
              "      <td>0.248882</td>\n",
              "      <td>-0.011475</td>\n",
              "      <td>-0.828604</td>\n",
              "      <td>0.012642</td>\n",
              "      <td>-0.523833</td>\n",
              "    </tr>\n",
              "    <tr>\n",
              "      <th>6</th>\n",
              "      <td>-0.112400</td>\n",
              "      <td>0.030459</td>\n",
              "      <td>0.034896</td>\n",
              "      <td>2.750333</td>\n",
              "      <td>-15.924459</td>\n",
              "      <td>4.445779</td>\n",
              "      <td>-0.007305</td>\n",
              "      <td>-1.429608</td>\n",
              "      <td>0.260043</td>\n",
              "      <td>-0.010780</td>\n",
              "      <td>-0.900771</td>\n",
              "      <td>0.012400</td>\n",
              "      <td>-0.510902</td>\n",
              "    </tr>\n",
              "    <tr>\n",
              "      <th>7</th>\n",
              "      <td>-0.113049</td>\n",
              "      <td>0.030114</td>\n",
              "      <td>0.040322</td>\n",
              "      <td>2.784077</td>\n",
              "      <td>-17.188839</td>\n",
              "      <td>4.438913</td>\n",
              "      <td>-0.006307</td>\n",
              "      <td>-1.447668</td>\n",
              "      <td>0.262404</td>\n",
              "      <td>-0.010648</td>\n",
              "      <td>-0.915298</td>\n",
              "      <td>0.012352</td>\n",
              "      <td>-0.508596</td>\n",
              "    </tr>\n",
              "  </tbody>\n",
              "</table>\n",
              "</div>"
            ],
            "text/plain": [
              "       CRIM        ZN     INDUS  ...   PTRATIO         B     LSTAT\n",
              "0 -0.003770  0.011693 -0.003636  ... -0.002456  0.013486 -0.012578\n",
              "1 -0.077182  0.040557 -0.056429  ... -0.157964  0.011532 -0.496255\n",
              "2 -0.101390  0.036465 -0.046618  ... -0.629290  0.010470 -0.786833\n",
              "3 -0.110765  0.039892 -0.048625  ... -0.817852  0.011951 -0.689539\n",
              "4 -0.107134  0.035552 -0.026277  ... -0.761769  0.012833 -0.561835\n",
              "5 -0.109234  0.032271  0.007498  ... -0.828604  0.012642 -0.523833\n",
              "6 -0.112400  0.030459  0.034896  ... -0.900771  0.012400 -0.510902\n",
              "7 -0.113049  0.030114  0.040322  ... -0.915298  0.012352 -0.508596\n",
              "\n",
              "[8 rows x 13 columns]"
            ]
          },
          "metadata": {
            "tags": []
          },
          "execution_count": 9
        }
      ]
    },
    {
      "cell_type": "code",
      "metadata": {
        "id": "_vTv0FINmVyf"
      },
      "source": [
        "alpha_result = pd.DataFrame.from_dict({\n",
        "      'alpha' : alpha,\n",
        "      'mse train' : mse_train,\n",
        "      'mse test' : mse_test\n",
        "})"
      ],
      "execution_count": null,
      "outputs": []
    },
    {
      "cell_type": "code",
      "metadata": {
        "colab": {
          "base_uri": "https://localhost:8080/",
          "height": 297
        },
        "id": "s9MxTJKNo_kD",
        "outputId": "d6992f89-99c3-4cc2-8047-230f77a058af"
      },
      "source": [
        "alpha_result"
      ],
      "execution_count": null,
      "outputs": [
        {
          "output_type": "execute_result",
          "data": {
            "text/html": [
              "<div>\n",
              "<style scoped>\n",
              "    .dataframe tbody tr th:only-of-type {\n",
              "        vertical-align: middle;\n",
              "    }\n",
              "\n",
              "    .dataframe tbody tr th {\n",
              "        vertical-align: top;\n",
              "    }\n",
              "\n",
              "    .dataframe thead th {\n",
              "        text-align: right;\n",
              "    }\n",
              "</style>\n",
              "<table border=\"1\" class=\"dataframe\">\n",
              "  <thead>\n",
              "    <tr style=\"text-align: right;\">\n",
              "      <th></th>\n",
              "      <th>alpha</th>\n",
              "      <th>mse train</th>\n",
              "      <th>mse test</th>\n",
              "    </tr>\n",
              "  </thead>\n",
              "  <tbody>\n",
              "    <tr>\n",
              "      <th>0</th>\n",
              "      <td>1000000.000</td>\n",
              "      <td>64.508669</td>\n",
              "      <td>51.719694</td>\n",
              "    </tr>\n",
              "    <tr>\n",
              "      <th>1</th>\n",
              "      <td>10000.000</td>\n",
              "      <td>39.687400</td>\n",
              "      <td>30.951028</td>\n",
              "    </tr>\n",
              "    <tr>\n",
              "      <th>2</th>\n",
              "      <td>1000.000</td>\n",
              "      <td>29.038567</td>\n",
              "      <td>24.695930</td>\n",
              "    </tr>\n",
              "    <tr>\n",
              "      <th>3</th>\n",
              "      <td>100.000</td>\n",
              "      <td>24.060126</td>\n",
              "      <td>23.465903</td>\n",
              "    </tr>\n",
              "    <tr>\n",
              "      <th>4</th>\n",
              "      <td>10.000</td>\n",
              "      <td>22.435172</td>\n",
              "      <td>24.648348</td>\n",
              "    </tr>\n",
              "    <tr>\n",
              "      <th>5</th>\n",
              "      <td>1.000</td>\n",
              "      <td>21.824118</td>\n",
              "      <td>24.477191</td>\n",
              "    </tr>\n",
              "    <tr>\n",
              "      <th>6</th>\n",
              "      <td>0.100</td>\n",
              "      <td>21.646476</td>\n",
              "      <td>24.301026</td>\n",
              "    </tr>\n",
              "    <tr>\n",
              "      <th>7</th>\n",
              "      <td>0.001</td>\n",
              "      <td>21.641413</td>\n",
              "      <td>24.291178</td>\n",
              "    </tr>\n",
              "  </tbody>\n",
              "</table>\n",
              "</div>"
            ],
            "text/plain": [
              "         alpha  mse train   mse test\n",
              "0  1000000.000  64.508669  51.719694\n",
              "1    10000.000  39.687400  30.951028\n",
              "2     1000.000  29.038567  24.695930\n",
              "3      100.000  24.060126  23.465903\n",
              "4       10.000  22.435172  24.648348\n",
              "5        1.000  21.824118  24.477191\n",
              "6        0.100  21.646476  24.301026\n",
              "7        0.001  21.641413  24.291178"
            ]
          },
          "metadata": {
            "tags": []
          },
          "execution_count": 11
        }
      ]
    },
    {
      "cell_type": "code",
      "metadata": {
        "colab": {
          "base_uri": "https://localhost:8080/",
          "height": 274
        },
        "id": "hemeca5st_z0",
        "outputId": "bdd4fbcf-b921-4e67-8958-7c441c115f88"
      },
      "source": [
        "plt.figure()\n",
        "sns.lineplot(alpha,mse_test)\n",
        "sns.scatterplot(alpha,mse_test)\n",
        "sns.lineplot(alpha,mse_train)\n",
        "sns.scatterplot(alpha,mse_train)\n",
        "plt.xscale('log')\n",
        "plt.xticks(alpha, fontsize ='x-large')\n",
        "plt.legend(['mse_test','mse_train'])\n",
        "plt.show()"
      ],
      "execution_count": null,
      "outputs": [
        {
          "output_type": "display_data",
          "data": {
            "image/png": "[encoded data removed]",
            "text/plain": [
              "<Figure size 432x288 with 1 Axes>"
            ]
          },
          "metadata": {
            "tags": [],
            "needs_background": "light"
          }
        }
      ]
    },
    {
      "cell_type": "markdown",
      "metadata": {
        "id": "WWWWLQNrtPKR"
      },
      "source": [
        "#In Lasso"
      ]
    },
    {
      "cell_type": "code",
      "metadata": {
        "id": "kqytDO4upuP1"
      },
      "source": [
        "alpha = (1000000,10000,1000,100,10,1,0.1,0.001)\n",
        "coefficients = []\n",
        "mse_train = []\n",
        "mse_test = []\n",
        "\n",
        "for i in alpha:\n",
        "  lasso = Lasso(alpha = i) \n",
        "  lasso.fit(X_train, y_train)\n",
        "\n",
        "  y_pred_train = lasso.predict(X_train)\n",
        "  y_pred_test = lasso.predict(X_test)\n",
        "\n",
        "\n",
        "  mse_train.append(mean_squared_error(y_train,y_pred_train))\n",
        "  mse_test.append(mean_squared_error(y_test,y_pred_test))\n",
        "  \n",
        "  coefficients.append(lasso.coef_)\n",
        "\n"
      ],
      "execution_count": null,
      "outputs": []
    },
    {
      "cell_type": "code",
      "metadata": {
        "colab": {
          "base_uri": "https://localhost:8080/",
          "height": 297
        },
        "id": "KX1PPDU9vIs7",
        "outputId": "9788919e-5734-4e73-a290-fa7807382f6f"
      },
      "source": [
        "pd.DataFrame(coefficients,columns=boston['feature_names'])"
      ],
      "execution_count": null,
      "outputs": [
        {
          "output_type": "execute_result",
          "data": {
            "text/html": [
              "<div>\n",
              "<style scoped>\n",
              "    .dataframe tbody tr th:only-of-type {\n",
              "        vertical-align: middle;\n",
              "    }\n",
              "\n",
              "    .dataframe tbody tr th {\n",
              "        vertical-align: top;\n",
              "    }\n",
              "\n",
              "    .dataframe thead th {\n",
              "        text-align: right;\n",
              "    }\n",
              "</style>\n",
              "<table border=\"1\" class=\"dataframe\">\n",
              "  <thead>\n",
              "    <tr style=\"text-align: right;\">\n",
              "      <th></th>\n",
              "      <th>CRIM</th>\n",
              "      <th>ZN</th>\n",
              "      <th>INDUS</th>\n",
              "      <th>CHAS</th>\n",
              "      <th>NOX</th>\n",
              "      <th>RM</th>\n",
              "      <th>AGE</th>\n",
              "      <th>DIS</th>\n",
              "      <th>RAD</th>\n",
              "      <th>TAX</th>\n",
              "      <th>PTRATIO</th>\n",
              "      <th>B</th>\n",
              "      <th>LSTAT</th>\n",
              "    </tr>\n",
              "  </thead>\n",
              "  <tbody>\n",
              "    <tr>\n",
              "      <th>0</th>\n",
              "      <td>-0.000000</td>\n",
              "      <td>0.000000</td>\n",
              "      <td>-0.000000</td>\n",
              "      <td>0.000000</td>\n",
              "      <td>-0.00000</td>\n",
              "      <td>0.000000</td>\n",
              "      <td>-0.000000</td>\n",
              "      <td>0.000000</td>\n",
              "      <td>-0.000000</td>\n",
              "      <td>-0.000000</td>\n",
              "      <td>-0.000000</td>\n",
              "      <td>0.000000</td>\n",
              "      <td>-0.000000</td>\n",
              "    </tr>\n",
              "    <tr>\n",
              "      <th>1</th>\n",
              "      <td>-0.000000</td>\n",
              "      <td>0.000000</td>\n",
              "      <td>-0.000000</td>\n",
              "      <td>0.000000</td>\n",
              "      <td>-0.00000</td>\n",
              "      <td>0.000000</td>\n",
              "      <td>-0.000000</td>\n",
              "      <td>0.000000</td>\n",
              "      <td>-0.000000</td>\n",
              "      <td>-0.000000</td>\n",
              "      <td>-0.000000</td>\n",
              "      <td>0.000000</td>\n",
              "      <td>-0.000000</td>\n",
              "    </tr>\n",
              "    <tr>\n",
              "      <th>2</th>\n",
              "      <td>-0.000000</td>\n",
              "      <td>0.000000</td>\n",
              "      <td>-0.000000</td>\n",
              "      <td>0.000000</td>\n",
              "      <td>-0.00000</td>\n",
              "      <td>0.000000</td>\n",
              "      <td>-0.000000</td>\n",
              "      <td>0.000000</td>\n",
              "      <td>-0.000000</td>\n",
              "      <td>-0.000000</td>\n",
              "      <td>-0.000000</td>\n",
              "      <td>0.000000</td>\n",
              "      <td>-0.000000</td>\n",
              "    </tr>\n",
              "    <tr>\n",
              "      <th>3</th>\n",
              "      <td>-0.000000</td>\n",
              "      <td>0.000000</td>\n",
              "      <td>-0.000000</td>\n",
              "      <td>0.000000</td>\n",
              "      <td>-0.00000</td>\n",
              "      <td>0.000000</td>\n",
              "      <td>-0.000000</td>\n",
              "      <td>0.000000</td>\n",
              "      <td>-0.000000</td>\n",
              "      <td>-0.020713</td>\n",
              "      <td>-0.000000</td>\n",
              "      <td>0.006071</td>\n",
              "      <td>-0.000000</td>\n",
              "    </tr>\n",
              "    <tr>\n",
              "      <th>4</th>\n",
              "      <td>-0.000000</td>\n",
              "      <td>0.006321</td>\n",
              "      <td>-0.000000</td>\n",
              "      <td>0.000000</td>\n",
              "      <td>0.00000</td>\n",
              "      <td>0.000000</td>\n",
              "      <td>0.000000</td>\n",
              "      <td>-0.000000</td>\n",
              "      <td>0.000000</td>\n",
              "      <td>-0.009073</td>\n",
              "      <td>-0.000000</td>\n",
              "      <td>0.009892</td>\n",
              "      <td>-0.604148</td>\n",
              "    </tr>\n",
              "    <tr>\n",
              "      <th>5</th>\n",
              "      <td>-0.076609</td>\n",
              "      <td>0.028501</td>\n",
              "      <td>-0.000000</td>\n",
              "      <td>0.000000</td>\n",
              "      <td>-0.00000</td>\n",
              "      <td>1.630489</td>\n",
              "      <td>0.016395</td>\n",
              "      <td>-0.630858</td>\n",
              "      <td>0.219654</td>\n",
              "      <td>-0.012286</td>\n",
              "      <td>-0.708582</td>\n",
              "      <td>0.011181</td>\n",
              "      <td>-0.747107</td>\n",
              "    </tr>\n",
              "    <tr>\n",
              "      <th>6</th>\n",
              "      <td>-0.104157</td>\n",
              "      <td>0.034893</td>\n",
              "      <td>-0.016785</td>\n",
              "      <td>0.919952</td>\n",
              "      <td>-0.00000</td>\n",
              "      <td>4.311687</td>\n",
              "      <td>-0.015126</td>\n",
              "      <td>-1.151487</td>\n",
              "      <td>0.239237</td>\n",
              "      <td>-0.012962</td>\n",
              "      <td>-0.732247</td>\n",
              "      <td>0.013091</td>\n",
              "      <td>-0.564674</td>\n",
              "    </tr>\n",
              "    <tr>\n",
              "      <th>7</th>\n",
              "      <td>-0.112881</td>\n",
              "      <td>0.030195</td>\n",
              "      <td>0.038949</td>\n",
              "      <td>2.763070</td>\n",
              "      <td>-16.86626</td>\n",
              "      <td>4.438784</td>\n",
              "      <td>-0.006516</td>\n",
              "      <td>-1.442681</td>\n",
              "      <td>0.261825</td>\n",
              "      <td>-0.010682</td>\n",
              "      <td>-0.911694</td>\n",
              "      <td>0.012365</td>\n",
              "      <td>-0.509377</td>\n",
              "    </tr>\n",
              "  </tbody>\n",
              "</table>\n",
              "</div>"
            ],
            "text/plain": [
              "       CRIM        ZN     INDUS  ...   PTRATIO         B     LSTAT\n",
              "0 -0.000000  0.000000 -0.000000  ... -0.000000  0.000000 -0.000000\n",
              "1 -0.000000  0.000000 -0.000000  ... -0.000000  0.000000 -0.000000\n",
              "2 -0.000000  0.000000 -0.000000  ... -0.000000  0.000000 -0.000000\n",
              "3 -0.000000  0.000000 -0.000000  ... -0.000000  0.006071 -0.000000\n",
              "4 -0.000000  0.006321 -0.000000  ... -0.000000  0.009892 -0.604148\n",
              "5 -0.076609  0.028501 -0.000000  ... -0.708582  0.011181 -0.747107\n",
              "6 -0.104157  0.034893 -0.016785  ... -0.732247  0.013091 -0.564674\n",
              "7 -0.112881  0.030195  0.038949  ... -0.911694  0.012365 -0.509377\n",
              "\n",
              "[8 rows x 13 columns]"
            ]
          },
          "metadata": {
            "tags": []
          },
          "execution_count": 14
        }
      ]
    },
    {
      "cell_type": "code",
      "metadata": {
        "id": "O2bSqxXttmGr"
      },
      "source": [
        "alpha_result = pd.DataFrame.from_dict({\n",
        "      'alpha' : alpha,\n",
        "      'mse train' : mse_train,\n",
        "      'mse test' : mse_test\n",
        "})"
      ],
      "execution_count": null,
      "outputs": []
    },
    {
      "cell_type": "code",
      "metadata": {
        "colab": {
          "base_uri": "https://localhost:8080/",
          "height": 297
        },
        "id": "CaWzrungtntq",
        "outputId": "10642353-f45e-4cea-9396-69bb0822e1fd"
      },
      "source": [
        "alpha_result"
      ],
      "execution_count": null,
      "outputs": [
        {
          "output_type": "execute_result",
          "data": {
            "text/html": [
              "<div>\n",
              "<style scoped>\n",
              "    .dataframe tbody tr th:only-of-type {\n",
              "        vertical-align: middle;\n",
              "    }\n",
              "\n",
              "    .dataframe tbody tr th {\n",
              "        vertical-align: top;\n",
              "    }\n",
              "\n",
              "    .dataframe thead th {\n",
              "        text-align: right;\n",
              "    }\n",
              "</style>\n",
              "<table border=\"1\" class=\"dataframe\">\n",
              "  <thead>\n",
              "    <tr style=\"text-align: right;\">\n",
              "      <th></th>\n",
              "      <th>alpha</th>\n",
              "      <th>mse train</th>\n",
              "      <th>mse test</th>\n",
              "    </tr>\n",
              "  </thead>\n",
              "  <tbody>\n",
              "    <tr>\n",
              "      <th>0</th>\n",
              "      <td>1000000.000</td>\n",
              "      <td>86.873404</td>\n",
              "      <td>75.045430</td>\n",
              "    </tr>\n",
              "    <tr>\n",
              "      <th>1</th>\n",
              "      <td>10000.000</td>\n",
              "      <td>86.873404</td>\n",
              "      <td>75.045430</td>\n",
              "    </tr>\n",
              "    <tr>\n",
              "      <th>2</th>\n",
              "      <td>1000.000</td>\n",
              "      <td>86.873404</td>\n",
              "      <td>75.045430</td>\n",
              "    </tr>\n",
              "    <tr>\n",
              "      <th>3</th>\n",
              "      <td>100.000</td>\n",
              "      <td>67.703772</td>\n",
              "      <td>55.320160</td>\n",
              "    </tr>\n",
              "    <tr>\n",
              "      <th>4</th>\n",
              "      <td>10.000</td>\n",
              "      <td>41.389247</td>\n",
              "      <td>34.685766</td>\n",
              "    </tr>\n",
              "    <tr>\n",
              "      <th>5</th>\n",
              "      <td>1.000</td>\n",
              "      <td>26.416867</td>\n",
              "      <td>24.409490</td>\n",
              "    </tr>\n",
              "    <tr>\n",
              "      <th>6</th>\n",
              "      <td>0.100</td>\n",
              "      <td>22.739811</td>\n",
              "      <td>25.155594</td>\n",
              "    </tr>\n",
              "    <tr>\n",
              "      <th>7</th>\n",
              "      <td>0.001</td>\n",
              "      <td>21.641781</td>\n",
              "      <td>24.288792</td>\n",
              "    </tr>\n",
              "  </tbody>\n",
              "</table>\n",
              "</div>"
            ],
            "text/plain": [
              "         alpha  mse train   mse test\n",
              "0  1000000.000  86.873404  75.045430\n",
              "1    10000.000  86.873404  75.045430\n",
              "2     1000.000  86.873404  75.045430\n",
              "3      100.000  67.703772  55.320160\n",
              "4       10.000  41.389247  34.685766\n",
              "5        1.000  26.416867  24.409490\n",
              "6        0.100  22.739811  25.155594\n",
              "7        0.001  21.641781  24.288792"
            ]
          },
          "metadata": {
            "tags": []
          },
          "execution_count": 16
        }
      ]
    },
    {
      "cell_type": "code",
      "metadata": {
        "colab": {
          "base_uri": "https://localhost:8080/",
          "height": 278
        },
        "id": "JsFwu-Avto-F",
        "outputId": "5e939c82-6681-40dc-de30-5cb9d29c9679"
      },
      "source": [
        "plt.figure()\n",
        "sns.lineplot(alpha,mse_test)\n",
        "sns.scatterplot(alpha,mse_test)\n",
        "sns.lineplot(alpha,mse_train)\n",
        "sns.scatterplot(alpha,mse_train)\n",
        "plt.xscale('log')\n",
        "plt.xticks(alpha, fontsize ='x-large')\n",
        "plt.legend(['mse_test','mse_train'])\n",
        "plt.show()"
      ],
      "execution_count": null,
      "outputs": [
        {
          "output_type": "display_data",
          "data": {
            "image/png": "[encoded data removed]",
            "text/plain": [
              "<Figure size 432x288 with 1 Axes>"
            ]
          },
          "metadata": {
            "tags": [],
            "needs_background": "light"
          }
        }
      ]
    },
    {
      "cell_type": "code",
      "metadata": {
        "id": "t3HI69jFAt1X"
      },
      "source": [
        ""
      ],
      "execution_count": null,
      "outputs": []
    }
  ]
}